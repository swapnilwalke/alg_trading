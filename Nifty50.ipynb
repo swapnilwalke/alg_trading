{
 "cells": [
  {
   "attachments": {},
   "cell_type": "markdown",
   "metadata": {},
   "source": [
    "Imports !!"
   ]
  },
  {
   "cell_type": "code",
   "execution_count": 16,
   "metadata": {},
   "outputs": [],
   "source": [
    "import numpy as np\n",
    "import pandas as pd\n",
    "import requests\n",
    "import xlsxwriter\n",
    "import math\n",
    "import yfinance as yf"
   ]
  },
  {
   "attachments": {},
   "cell_type": "markdown",
   "metadata": {},
   "source": [
    "https://medium.com/@quantpanda123/creating-a-nifty-50-stock-database-using-python-d6ffb56e011e\n",
    "\n",
    "This gets Nifty 50 Nse Data\n",
    "\n",
    "Since getting individual data from Yahoo finance appending .NS to every ticker name"
   ]
  },
  {
   "cell_type": "code",
   "execution_count": null,
   "metadata": {},
   "outputs": [],
   "source": [
    "stocks = pd.read_csv('./resources/ind_niftynext50list.csv')\n",
    "col_symbols = stocks['Symbol'].tolist()\n",
    "yahoo_ticker_appender=\".NS\"\n",
    "yahoo_ticker_col = [f\"{i}{yahoo_ticker_appender}\" for i in col_symbols]\n",
    "stocks['YTicker']=yahoo_ticker_col\n",
    "stocks"
   ]
  },
  {
   "cell_type": "code",
   "execution_count": 49,
   "metadata": {},
   "outputs": [
    {
     "name": "stdout",
     "output_type": "stream",
     "text": [
      "lazy-loading dict with keys = ['currency', 'dayHigh', 'dayLow', 'exchange', 'fiftyDayAverage', 'lastPrice', 'lastVolume', 'marketCap', 'open', 'previousClose', 'quoteType', 'regularMarketPreviousClose', 'shares', 'tenDayAverageVolume', 'threeMonthAverageVolume', 'timezone', 'twoHundredDayAverage', 'yearChange', 'yearHigh', 'yearLow']\n"
     ]
    }
   ],
   "source": [
    "acc_symbol = \"ACC.NS\"\n",
    "acc_stock_info= yf.Ticker(acc_symbol)\n",
    "fast_info=acc_stock_info.fast_info\n",
    "market_cap = acc_stock_info.fast_info[\"marketCap\"]\n",
    "last_price=acc_stock_info.fast_info['last_price']\n",
    "\n",
    "print(fast_info)"
   ]
  },
  {
   "cell_type": "code",
   "execution_count": null,
   "metadata": {},
   "outputs": [],
   "source": [
    "my_columns=['Ticker','Stock Price','Market Capitalization','Number of Shares to Buy']\n",
    "final_dataframe=pd.DataFrame(columns=my_columns)\n",
    "final_dataframe.loc[acc_symbol,last_price,market_cap,'N/A']"
   ]
  }
 ],
 "metadata": {
  "kernelspec": {
   "display_name": "Python 3",
   "language": "python",
   "name": "python3"
  },
  "language_info": {
   "codemirror_mode": {
    "name": "ipython",
    "version": 3
   },
   "file_extension": ".py",
   "mimetype": "text/x-python",
   "name": "python",
   "nbconvert_exporter": "python",
   "pygments_lexer": "ipython3",
   "version": "3.10.2"
  },
  "orig_nbformat": 4
 },
 "nbformat": 4,
 "nbformat_minor": 2
}
